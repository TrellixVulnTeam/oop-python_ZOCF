{
 "cells": [
  {
   "cell_type": "code",
   "execution_count": 84,
   "metadata": {},
   "outputs": [
    {
     "name": "stdout",
     "output_type": "stream",
     "text": [
      "raising <class 'IndexError'>\n",
      "Index Error Caught\n",
      "error handled and cleaned up\n"
     ]
    }
   ],
   "source": [
    "import random\n",
    "some_exceptions=[ValueError,TypeError,IndexError,None]\n",
    "try:\n",
    "    choice=random.choice(some_exceptions)\n",
    "    print(\"raising {}\".format(choice))\n",
    "    if choice:\n",
    "        raise choice(\"An Error\")\n",
    "except ValueError:\n",
    "    print(\"Value Error Caught\")\n",
    "except TypeError:\n",
    "    print(\"Type Error Caught\")\n",
    "except IndexError:\n",
    "    print(\"Index Error Caught\")\n",
    "else:\n",
    "    print(\"called without exceptions\")\n",
    "finally: #will execute even there is a return statement in the try\n",
    "    print(\"error handled and cleaned up\")"
   ]
  },
  {
   "cell_type": "code",
   "execution_count": 52,
   "metadata": {
    "collapsed": true
   },
   "outputs": [],
   "source": [
    "import hashlib\n",
    "\n",
    "class User:\n",
    "    def __init__(self,username,password):\n",
    "        '''Create a new user object, password encrypted before stroing'''\n",
    "        self.username=username\n",
    "        self.password=self._encrypt_pw(password)\n",
    "        self.is_logged_in=False\n",
    "    def _encrypt_pw(self,password):\n",
    "        '''Encrypt the password with the username and return sha digest'''\n",
    "        hash_string=(self.username+password)\n",
    "        hash_string=hash_string.encode('utf8')\n",
    "        return hashlib.sha256(hash_string).hexdigest()\n",
    "    def check_password(self,password):\n",
    "        '''Return True is the password is valid for the user, false otherwise'''\n",
    "        encrypted=self._encrypt_pw(password)\n",
    "        return encrypted==self.password\n",
    "    \n",
    "\n",
    "\n",
    "class AuthException(Exception):\n",
    "    def __init__(self,username,user=None):\n",
    "        super().__init__(username,user)\n",
    "        self.username=username\n",
    "        self.user=user\n",
    "        \n",
    "class UsernameAlreadyExists(AuthException):\n",
    "    pass\n",
    "\n",
    "class PasswordTooShort(AuthException):\n",
    "    pass\n",
    "\n",
    "class InvalidUsername(AuthException):\n",
    "    pass\n",
    "class InvalidPassword(AuthException):\n",
    "    pass\n",
    "\n",
    "\n",
    "class Authenticator:\n",
    "    def __init__(self):\n",
    "        '''Construct an authenticator to manage user logins'''\n",
    "        self.users={}\n",
    "    \n",
    "    def add_user(self,username,password):\n",
    "        if username in self.users:\n",
    "            raise UsernameAlreadyExists(username)\n",
    "        if len(password)<6:\n",
    "            raise PasswordTooShort(username)\n",
    "        self.users[username]=User(username,password) # add user to the dictionary\n",
    "    \n",
    "    def login(self,username,password):\n",
    "        try:\n",
    "            user=self.users[username]\n",
    "        except KeyError:\n",
    "            raise InvalidUsername(username)\n",
    "        if not user.check_password(password):\n",
    "            raise InvalidPassword(username,user)\n",
    "        user.is_logged_in=True\n",
    "        return True\n",
    "    \n",
    "    def is_logged_in(self,username):\n",
    "        if username in self.users:\n",
    "            return self.users[username].is_logged_in\n",
    "        return False\n",
    "\n",
    "authenticator=Authenticator()\n",
    "\n",
    "# setup the permission directory\n",
    "class Authorizor:\n",
    "    def __init__(self,authenticator):\n",
    "        self.authenticator=authenticator\n",
    "        self.permissions={}\n",
    "    def add_permission(self,perm_name):\n",
    "        '''Create a new permission type'''\n",
    "        try:\n",
    "            perm_set=self.permissions[perm_name]\n",
    "        except KeyError:\n",
    "            self.permissions[perm_name]=set()\n",
    "        else:\n",
    "            raise PermissionError(\"PermissionExists\")\n",
    "    def permit_user(self,perm_name,username):\n",
    "        '''Grant the given permission to the user'''\n",
    "        try:\n",
    "            perm_set=self.permissions[perm_name]\n",
    "        except KeyError:\n",
    "            raise PermissionError(\"Permission does not exist\")\n",
    "        else:\n",
    "            if username not in self.authenticator.users:\n",
    "                raise InvalidUsername(username)\n",
    "            perm_set.add(username)\n",
    "    def check_permission(self,perm_name,username):\n",
    "        if not self.authenticator.is_logged_in(username):\n",
    "            raise NotLoggedInError(username)\n",
    "        try:\n",
    "            perm_set=self.permissions[perm_name]\n",
    "        except KeyError:\n",
    "            raise PermissionError(\"Permission does not exit\")\n",
    "        else:\n",
    "            if username not in perm_set:\n",
    "                raise NotPermittedError(username)\n",
    "            else:\n",
    "                return True\n",
    "\n",
    "class PermissionError(Exception):\n",
    "    pass\n",
    "class NotLoggedInError(AuthException):\n",
    "    pass\n",
    "class NotPermittedError(AuthException):\n",
    "    pass"
   ]
  },
  {
   "cell_type": "code",
   "execution_count": 53,
   "metadata": {
    "collapsed": true
   },
   "outputs": [],
   "source": [
    "authorizor=Authorizor(authenticator)"
   ]
  },
  {
   "cell_type": "code",
   "execution_count": 54,
   "metadata": {},
   "outputs": [],
   "source": [
    "authenticator.add_user(\"joe\",\"joepassword\")"
   ]
  },
  {
   "cell_type": "code",
   "execution_count": 55,
   "metadata": {
    "collapsed": true
   },
   "outputs": [],
   "source": [
    "authorizor.add_permission(\"paint\")"
   ]
  },
  {
   "cell_type": "code",
   "execution_count": 56,
   "metadata": {},
   "outputs": [
    {
     "ename": "NotLoggedInError",
     "evalue": "('joe', None)",
     "output_type": "error",
     "traceback": [
      "\u001b[1;31m---------------------------------------------------------------------------\u001b[0m",
      "\u001b[1;31mNotLoggedInError\u001b[0m                          Traceback (most recent call last)",
      "\u001b[1;32m<ipython-input-56-99f67126036b>\u001b[0m in \u001b[0;36m<module>\u001b[1;34m()\u001b[0m\n\u001b[1;32m----> 1\u001b[1;33m \u001b[0mauthorizor\u001b[0m\u001b[1;33m.\u001b[0m\u001b[0mcheck_permission\u001b[0m\u001b[1;33m(\u001b[0m\u001b[1;34m\"paint\"\u001b[0m\u001b[1;33m,\u001b[0m\u001b[1;34m\"joe\"\u001b[0m\u001b[1;33m)\u001b[0m\u001b[1;33m\u001b[0m\u001b[0m\n\u001b[0m",
      "\u001b[1;32m<ipython-input-52-2909eac8435a>\u001b[0m in \u001b[0;36mcheck_permission\u001b[1;34m(self, perm_name, username)\u001b[0m\n\u001b[0;32m     91\u001b[0m     \u001b[1;32mdef\u001b[0m \u001b[0mcheck_permission\u001b[0m\u001b[1;33m(\u001b[0m\u001b[0mself\u001b[0m\u001b[1;33m,\u001b[0m\u001b[0mperm_name\u001b[0m\u001b[1;33m,\u001b[0m\u001b[0musername\u001b[0m\u001b[1;33m)\u001b[0m\u001b[1;33m:\u001b[0m\u001b[1;33m\u001b[0m\u001b[0m\n\u001b[0;32m     92\u001b[0m         \u001b[1;32mif\u001b[0m \u001b[1;32mnot\u001b[0m \u001b[0mself\u001b[0m\u001b[1;33m.\u001b[0m\u001b[0mauthenticator\u001b[0m\u001b[1;33m.\u001b[0m\u001b[0mis_logged_in\u001b[0m\u001b[1;33m(\u001b[0m\u001b[0musername\u001b[0m\u001b[1;33m)\u001b[0m\u001b[1;33m:\u001b[0m\u001b[1;33m\u001b[0m\u001b[0m\n\u001b[1;32m---> 93\u001b[1;33m             \u001b[1;32mraise\u001b[0m \u001b[0mNotLoggedInError\u001b[0m\u001b[1;33m(\u001b[0m\u001b[0musername\u001b[0m\u001b[1;33m)\u001b[0m\u001b[1;33m\u001b[0m\u001b[0m\n\u001b[0m\u001b[0;32m     94\u001b[0m         \u001b[1;32mtry\u001b[0m\u001b[1;33m:\u001b[0m\u001b[1;33m\u001b[0m\u001b[0m\n\u001b[0;32m     95\u001b[0m             \u001b[0mperm_set\u001b[0m\u001b[1;33m=\u001b[0m\u001b[0mself\u001b[0m\u001b[1;33m.\u001b[0m\u001b[0mpermissions\u001b[0m\u001b[1;33m[\u001b[0m\u001b[0mperm_name\u001b[0m\u001b[1;33m]\u001b[0m\u001b[1;33m\u001b[0m\u001b[0m\n",
      "\u001b[1;31mNotLoggedInError\u001b[0m: ('joe', None)"
     ]
    }
   ],
   "source": [
    "authorizor.check_permission(\"paint\",\"joe\")"
   ]
  },
  {
   "cell_type": "code",
   "execution_count": 57,
   "metadata": {},
   "outputs": [
    {
     "data": {
      "text/plain": [
       "False"
      ]
     },
     "execution_count": 57,
     "metadata": {},
     "output_type": "execute_result"
    }
   ],
   "source": [
    "authenticator.is_logged_in(\"joe\")"
   ]
  },
  {
   "cell_type": "code",
   "execution_count": 58,
   "metadata": {},
   "outputs": [
    {
     "data": {
      "text/plain": [
       "True"
      ]
     },
     "execution_count": 58,
     "metadata": {},
     "output_type": "execute_result"
    }
   ],
   "source": [
    "authenticator.login(\"joe\",\"joepassword\")"
   ]
  },
  {
   "cell_type": "code",
   "execution_count": 60,
   "metadata": {},
   "outputs": [
    {
     "ename": "InvalidPassword",
     "evalue": "('joe', <__main__.User object at 0x0000024CB0840BA8>)",
     "output_type": "error",
     "traceback": [
      "\u001b[1;31m---------------------------------------------------------------------------\u001b[0m",
      "\u001b[1;31mInvalidPassword\u001b[0m                           Traceback (most recent call last)",
      "\u001b[1;32m<ipython-input-60-8ce70d04a226>\u001b[0m in \u001b[0;36m<module>\u001b[1;34m()\u001b[0m\n\u001b[1;32m----> 1\u001b[1;33m \u001b[0mauthenticator\u001b[0m\u001b[1;33m.\u001b[0m\u001b[0mlogin\u001b[0m\u001b[1;33m(\u001b[0m\u001b[1;34m\"joe\"\u001b[0m\u001b[1;33m,\u001b[0m\u001b[1;34m\"joepasword\"\u001b[0m\u001b[1;33m)\u001b[0m\u001b[1;33m\u001b[0m\u001b[0m\n\u001b[0m",
      "\u001b[1;32m<ipython-input-52-2909eac8435a>\u001b[0m in \u001b[0;36mlogin\u001b[1;34m(self, username, password)\u001b[0m\n\u001b[0;32m     55\u001b[0m             \u001b[1;32mraise\u001b[0m \u001b[0mInvalidUsername\u001b[0m\u001b[1;33m(\u001b[0m\u001b[0musername\u001b[0m\u001b[1;33m)\u001b[0m\u001b[1;33m\u001b[0m\u001b[0m\n\u001b[0;32m     56\u001b[0m         \u001b[1;32mif\u001b[0m \u001b[1;32mnot\u001b[0m \u001b[0muser\u001b[0m\u001b[1;33m.\u001b[0m\u001b[0mcheck_password\u001b[0m\u001b[1;33m(\u001b[0m\u001b[0mpassword\u001b[0m\u001b[1;33m)\u001b[0m\u001b[1;33m:\u001b[0m\u001b[1;33m\u001b[0m\u001b[0m\n\u001b[1;32m---> 57\u001b[1;33m             \u001b[1;32mraise\u001b[0m \u001b[0mInvalidPassword\u001b[0m\u001b[1;33m(\u001b[0m\u001b[0musername\u001b[0m\u001b[1;33m,\u001b[0m\u001b[0muser\u001b[0m\u001b[1;33m)\u001b[0m\u001b[1;33m\u001b[0m\u001b[0m\n\u001b[0m\u001b[0;32m     58\u001b[0m         \u001b[0muser\u001b[0m\u001b[1;33m.\u001b[0m\u001b[0mis_logged_in\u001b[0m\u001b[1;33m=\u001b[0m\u001b[1;32mTrue\u001b[0m\u001b[1;33m\u001b[0m\u001b[0m\n\u001b[0;32m     59\u001b[0m         \u001b[1;32mreturn\u001b[0m \u001b[1;32mTrue\u001b[0m\u001b[1;33m\u001b[0m\u001b[0m\n",
      "\u001b[1;31mInvalidPassword\u001b[0m: ('joe', <__main__.User object at 0x0000024CB0840BA8>)"
     ]
    }
   ],
   "source": [
    "authenticator.login(\"joe\",\"joepasword\")"
   ]
  },
  {
   "cell_type": "code",
   "execution_count": 59,
   "metadata": {},
   "outputs": [
    {
     "ename": "NotPermittedError",
     "evalue": "('joe', None)",
     "output_type": "error",
     "traceback": [
      "\u001b[1;31m---------------------------------------------------------------------------\u001b[0m",
      "\u001b[1;31mNotPermittedError\u001b[0m                         Traceback (most recent call last)",
      "\u001b[1;32m<ipython-input-59-99f67126036b>\u001b[0m in \u001b[0;36m<module>\u001b[1;34m()\u001b[0m\n\u001b[1;32m----> 1\u001b[1;33m \u001b[0mauthorizor\u001b[0m\u001b[1;33m.\u001b[0m\u001b[0mcheck_permission\u001b[0m\u001b[1;33m(\u001b[0m\u001b[1;34m\"paint\"\u001b[0m\u001b[1;33m,\u001b[0m\u001b[1;34m\"joe\"\u001b[0m\u001b[1;33m)\u001b[0m\u001b[1;33m\u001b[0m\u001b[0m\n\u001b[0m",
      "\u001b[1;32m<ipython-input-52-2909eac8435a>\u001b[0m in \u001b[0;36mcheck_permission\u001b[1;34m(self, perm_name, username)\u001b[0m\n\u001b[0;32m     98\u001b[0m         \u001b[1;32melse\u001b[0m\u001b[1;33m:\u001b[0m\u001b[1;33m\u001b[0m\u001b[0m\n\u001b[0;32m     99\u001b[0m             \u001b[1;32mif\u001b[0m \u001b[0musername\u001b[0m \u001b[1;32mnot\u001b[0m \u001b[1;32min\u001b[0m \u001b[0mperm_set\u001b[0m\u001b[1;33m:\u001b[0m\u001b[1;33m\u001b[0m\u001b[0m\n\u001b[1;32m--> 100\u001b[1;33m                 \u001b[1;32mraise\u001b[0m \u001b[0mNotPermittedError\u001b[0m\u001b[1;33m(\u001b[0m\u001b[0musername\u001b[0m\u001b[1;33m)\u001b[0m\u001b[1;33m\u001b[0m\u001b[0m\n\u001b[0m\u001b[0;32m    101\u001b[0m             \u001b[1;32melse\u001b[0m\u001b[1;33m:\u001b[0m\u001b[1;33m\u001b[0m\u001b[0m\n\u001b[0;32m    102\u001b[0m                 \u001b[1;32mreturn\u001b[0m \u001b[1;32mTrue\u001b[0m\u001b[1;33m\u001b[0m\u001b[0m\n",
      "\u001b[1;31mNotPermittedError\u001b[0m: ('joe', None)"
     ]
    }
   ],
   "source": [
    "authorizor.check_permission(\"paint\",\"joe\")"
   ]
  },
  {
   "cell_type": "code",
   "execution_count": 61,
   "metadata": {},
   "outputs": [
    {
     "ename": "PermissionError",
     "evalue": "Permission does not exit",
     "output_type": "error",
     "traceback": [
      "\u001b[1;31m---------------------------------------------------------------------------\u001b[0m",
      "\u001b[1;31mKeyError\u001b[0m                                  Traceback (most recent call last)",
      "\u001b[1;32m<ipython-input-52-2909eac8435a>\u001b[0m in \u001b[0;36mcheck_permission\u001b[1;34m(self, perm_name, username)\u001b[0m\n\u001b[0;32m     94\u001b[0m         \u001b[1;32mtry\u001b[0m\u001b[1;33m:\u001b[0m\u001b[1;33m\u001b[0m\u001b[0m\n\u001b[1;32m---> 95\u001b[1;33m             \u001b[0mperm_set\u001b[0m\u001b[1;33m=\u001b[0m\u001b[0mself\u001b[0m\u001b[1;33m.\u001b[0m\u001b[0mpermissions\u001b[0m\u001b[1;33m[\u001b[0m\u001b[0mperm_name\u001b[0m\u001b[1;33m]\u001b[0m\u001b[1;33m\u001b[0m\u001b[0m\n\u001b[0m\u001b[0;32m     96\u001b[0m         \u001b[1;32mexcept\u001b[0m \u001b[0mKeyError\u001b[0m\u001b[1;33m:\u001b[0m\u001b[1;33m\u001b[0m\u001b[0m\n",
      "\u001b[1;31mKeyError\u001b[0m: 'mix'",
      "\nDuring handling of the above exception, another exception occurred:\n",
      "\u001b[1;31mPermissionError\u001b[0m                           Traceback (most recent call last)",
      "\u001b[1;32m<ipython-input-61-0fad279a3407>\u001b[0m in \u001b[0;36m<module>\u001b[1;34m()\u001b[0m\n\u001b[1;32m----> 1\u001b[1;33m \u001b[0mauthorizor\u001b[0m\u001b[1;33m.\u001b[0m\u001b[0mcheck_permission\u001b[0m\u001b[1;33m(\u001b[0m\u001b[1;34m\"mix\"\u001b[0m\u001b[1;33m,\u001b[0m\u001b[1;34m\"joe\"\u001b[0m\u001b[1;33m)\u001b[0m\u001b[1;33m\u001b[0m\u001b[0m\n\u001b[0m",
      "\u001b[1;32m<ipython-input-52-2909eac8435a>\u001b[0m in \u001b[0;36mcheck_permission\u001b[1;34m(self, perm_name, username)\u001b[0m\n\u001b[0;32m     95\u001b[0m             \u001b[0mperm_set\u001b[0m\u001b[1;33m=\u001b[0m\u001b[0mself\u001b[0m\u001b[1;33m.\u001b[0m\u001b[0mpermissions\u001b[0m\u001b[1;33m[\u001b[0m\u001b[0mperm_name\u001b[0m\u001b[1;33m]\u001b[0m\u001b[1;33m\u001b[0m\u001b[0m\n\u001b[0;32m     96\u001b[0m         \u001b[1;32mexcept\u001b[0m \u001b[0mKeyError\u001b[0m\u001b[1;33m:\u001b[0m\u001b[1;33m\u001b[0m\u001b[0m\n\u001b[1;32m---> 97\u001b[1;33m             \u001b[1;32mraise\u001b[0m \u001b[0mPermissionError\u001b[0m\u001b[1;33m(\u001b[0m\u001b[1;34m\"Permission does not exit\"\u001b[0m\u001b[1;33m)\u001b[0m\u001b[1;33m\u001b[0m\u001b[0m\n\u001b[0m\u001b[0;32m     98\u001b[0m         \u001b[1;32melse\u001b[0m\u001b[1;33m:\u001b[0m\u001b[1;33m\u001b[0m\u001b[0m\n\u001b[0;32m     99\u001b[0m             \u001b[1;32mif\u001b[0m \u001b[0musername\u001b[0m \u001b[1;32mnot\u001b[0m \u001b[1;32min\u001b[0m \u001b[0mperm_set\u001b[0m\u001b[1;33m:\u001b[0m\u001b[1;33m\u001b[0m\u001b[0m\n",
      "\u001b[1;31mPermissionError\u001b[0m: Permission does not exit"
     ]
    }
   ],
   "source": [
    "authorizor.check_permission(\"mix\",\"joe\")"
   ]
  },
  {
   "cell_type": "code",
   "execution_count": null,
   "metadata": {
    "collapsed": true
   },
   "outputs": [],
   "source": []
  },
  {
   "cell_type": "code",
   "execution_count": null,
   "metadata": {
    "collapsed": true
   },
   "outputs": [],
   "source": []
  },
  {
   "cell_type": "code",
   "execution_count": null,
   "metadata": {
    "collapsed": true
   },
   "outputs": [],
   "source": []
  },
  {
   "cell_type": "code",
   "execution_count": null,
   "metadata": {
    "collapsed": true
   },
   "outputs": [],
   "source": []
  },
  {
   "cell_type": "code",
   "execution_count": null,
   "metadata": {
    "collapsed": true
   },
   "outputs": [],
   "source": []
  },
  {
   "cell_type": "code",
   "execution_count": null,
   "metadata": {
    "collapsed": true
   },
   "outputs": [],
   "source": []
  },
  {
   "cell_type": "code",
   "execution_count": null,
   "metadata": {
    "collapsed": true
   },
   "outputs": [],
   "source": []
  },
  {
   "cell_type": "code",
   "execution_count": null,
   "metadata": {
    "collapsed": true
   },
   "outputs": [],
   "source": []
  },
  {
   "cell_type": "code",
   "execution_count": null,
   "metadata": {
    "collapsed": true
   },
   "outputs": [],
   "source": []
  },
  {
   "cell_type": "code",
   "execution_count": null,
   "metadata": {
    "collapsed": true
   },
   "outputs": [],
   "source": []
  },
  {
   "cell_type": "code",
   "execution_count": null,
   "metadata": {
    "collapsed": true
   },
   "outputs": [],
   "source": []
  }
 ],
 "metadata": {
  "kernelspec": {
   "display_name": "Python 3",
   "language": "python",
   "name": "python3"
  },
  "language_info": {
   "codemirror_mode": {
    "name": "ipython",
    "version": 3
   },
   "file_extension": ".py",
   "mimetype": "text/x-python",
   "name": "python",
   "nbconvert_exporter": "python",
   "pygments_lexer": "ipython3",
   "version": "3.6.3"
  }
 },
 "nbformat": 4,
 "nbformat_minor": 2
}
