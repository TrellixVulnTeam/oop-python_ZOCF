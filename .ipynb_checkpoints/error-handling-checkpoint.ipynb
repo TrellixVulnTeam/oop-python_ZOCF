{
 "cells": [
  {
   "cell_type": "code",
   "execution_count": 84,
   "metadata": {},
   "outputs": [
    {
     "name": "stdout",
     "output_type": "stream",
     "text": [
      "raising <class 'IndexError'>\n",
      "Index Error Caught\n",
      "error handled and cleaned up\n"
     ]
    }
   ],
   "source": [
    "import random\n",
    "some_exceptions=[ValueError,TypeError,IndexError,None]\n",
    "try:\n",
    "    choice=random.choice(some_exceptions)\n",
    "    print(\"raising {}\".format(choice))\n",
    "    if choice:\n",
    "        raise choice(\"An Error\")\n",
    "except ValueError:\n",
    "    print(\"Value Error Caught\")\n",
    "except TypeError:\n",
    "    print(\"Type Error Caught\")\n",
    "except IndexError:\n",
    "    print(\"Index Error Caught\")\n",
    "else:\n",
    "    print(\"called without exceptions\")\n",
    "finally: #will execute even there is a return statement in the try\n",
    "    print(\"error handled and cleaned up\")"
   ]
  }
 ],
 "metadata": {
  "kernelspec": {
   "display_name": "Python 3",
   "language": "python",
   "name": "python3"
  },
  "language_info": {
   "codemirror_mode": {
    "name": "ipython",
    "version": 3
   },
   "file_extension": ".py",
   "mimetype": "text/x-python",
   "name": "python",
   "nbconvert_exporter": "python",
   "pygments_lexer": "ipython3",
   "version": "3.6.3"
  }
 },
 "nbformat": 4,
 "nbformat_minor": 2
}
