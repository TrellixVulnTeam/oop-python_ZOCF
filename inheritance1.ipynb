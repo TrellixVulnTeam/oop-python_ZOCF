{
 "cells": [
  {
   "cell_type": "code",
   "execution_count": 1,
   "metadata": {
    "collapsed": true
   },
   "outputs": [],
   "source": [
    "class Contact:\n",
    "    all_contacts=[]\n",
    "    def __init__(self,name,email):\n",
    "        self.name=name\n",
    "        self.email=email\n",
    "        Contact.all_contacts.append(self)"
   ]
  },
  {
   "cell_type": "code",
   "execution_count": 2,
   "metadata": {
    "collapsed": true
   },
   "outputs": [],
   "source": [
    "c1=Contact(\"Yunjie\",\"93@gmail.com\")"
   ]
  },
  {
   "cell_type": "code",
   "execution_count": 3,
   "metadata": {},
   "outputs": [
    {
     "data": {
      "text/plain": [
       "[<__main__.Contact at 0x27bbec33cf8>]"
      ]
     },
     "execution_count": 3,
     "metadata": {},
     "output_type": "execute_result"
    }
   ],
   "source": [
    "c1.all_contacts"
   ]
  },
  {
   "cell_type": "code",
   "execution_count": 6,
   "metadata": {
    "collapsed": true
   },
   "outputs": [],
   "source": [
    "class Supplier(Contact):\n",
    "    def order(self, order):\n",
    "        print(\"sending orders ...\")"
   ]
  },
  {
   "cell_type": "code",
   "execution_count": 7,
   "metadata": {
    "collapsed": true
   },
   "outputs": [],
   "source": [
    "s1=Supplier(\"Wenhe\",\"89@gmail.com\")"
   ]
  },
  {
   "cell_type": "code",
   "execution_count": 8,
   "metadata": {},
   "outputs": [
    {
     "data": {
      "text/plain": [
       "[<__main__.Contact at 0x27bbec33cf8>, <__main__.Supplier at 0x27bbeca0240>]"
      ]
     },
     "execution_count": 8,
     "metadata": {},
     "output_type": "execute_result"
    }
   ],
   "source": [
    "s1.all_contacts"
   ]
  },
  {
   "cell_type": "code",
   "execution_count": 12,
   "metadata": {
    "collapsed": true
   },
   "outputs": [],
   "source": [
    "class Friend(Contact):\n",
    "    def __init__(self,name,email,phone):\n",
    "        self.name=name\n",
    "        self.email=email\n",
    "        self.phone=phone\n",
    "        Contact.all_contacts.append(self)"
   ]
  },
  {
   "cell_type": "code",
   "execution_count": 13,
   "metadata": {
    "collapsed": true
   },
   "outputs": [],
   "source": [
    "f1=Friend(\"Mia\",\"mia@gmail.com\",12345)"
   ]
  },
  {
   "cell_type": "code",
   "execution_count": 14,
   "metadata": {},
   "outputs": [
    {
     "data": {
      "text/plain": [
       "[<__main__.Contact at 0x27bbec33cf8>,\n",
       " <__main__.Supplier at 0x27bbeca0240>,\n",
       " <__main__.Friend at 0x27bbebbd7f0>]"
      ]
     },
     "execution_count": 14,
     "metadata": {},
     "output_type": "execute_result"
    }
   ],
   "source": [
    "f1.all_contacts"
   ]
  },
  {
   "cell_type": "code",
   "execution_count": 15,
   "metadata": {
    "collapsed": true
   },
   "outputs": [],
   "source": [
    "class Friend(Contact):\n",
    "    def __init__(self,name,email,phone):\n",
    "        super().__init__(name,email) # reuse the code in the parent's constructor\n",
    "        self.phone=phone"
   ]
  },
  {
   "cell_type": "code",
   "execution_count": 21,
   "metadata": {},
   "outputs": [
    {
     "data": {
      "text/plain": [
       "[<__main__.Contact at 0x27bbec33cf8>,\n",
       " <__main__.Supplier at 0x27bbeca0240>,\n",
       " <__main__.Friend at 0x27bbebbd7f0>,\n",
       " <__main__.Friend at 0x27bbeb919b0>,\n",
       " <__main__.Friend at 0x27bbeb915c0>,\n",
       " <__main__.Friend at 0x27bbebc8e10>,\n",
       " <__main__.Friend at 0x27bbec26a20>,\n",
       " <__main__.Friend at 0x27bbec26a90>,\n",
       " <__main__.Friend at 0x27bbec26630>]"
      ]
     },
     "execution_count": 21,
     "metadata": {},
     "output_type": "execute_result"
    }
   ],
   "source": [
    "f1=Friend(\"Mia\",\"mia@gmail.com\",12345)\n",
    "f1.all_contacts"
   ]
  },
  {
   "cell_type": "code",
   "execution_count": 22,
   "metadata": {
    "collapsed": true
   },
   "outputs": [],
   "source": [
    "class AddressHolder:\n",
    "    def __init__(self,street,city,state,code):\n",
    "        self.street=street\n",
    "        self.city=city\n",
    "        self.state=state\n",
    "        self.code=code"
   ]
  },
  {
   "cell_type": "code",
   "execution_count": 23,
   "metadata": {
    "collapsed": true
   },
   "outputs": [],
   "source": [
    "class Friend(Contact,AddressHolder):\n",
    "    def __init__(self,name,email,phone,street,city,state,code):\n",
    "        Contact.__init__(self,name,email)\n",
    "        AddressHolder.__init__(self,street,city,state,code)\n",
    "        self.phone=phone"
   ]
  },
  {
   "cell_type": "code",
   "execution_count": 37,
   "metadata": {},
   "outputs": [
    {
     "data": {
      "text/plain": [
       "[<__main__.Contact at 0x27bbec33cf8>,\n",
       " <__main__.Supplier at 0x27bbeca0240>,\n",
       " <__main__.Friend at 0x27bbebbd7f0>,\n",
       " <__main__.Friend at 0x27bbeb919b0>,\n",
       " <__main__.Friend at 0x27bbeb915c0>,\n",
       " <__main__.Friend at 0x27bbebc8e10>,\n",
       " <__main__.Friend at 0x27bbec26a20>,\n",
       " <__main__.Friend at 0x27bbec26a90>,\n",
       " <__main__.Friend at 0x27bbec26630>,\n",
       " <__main__.Friend at 0x27bbebb7e10>,\n",
       " <__main__.Friend at 0x27bbebe05c0>,\n",
       " <__main__.Friend at 0x27bbebf0668>,\n",
       " <__main__.Friend at 0x27bbebe0c50>,\n",
       " <__main__.Friend at 0x27bbebe0588>,\n",
       " <__main__.Friend at 0x27bbebe6278>,\n",
       " <__main__.Friend at 0x27bbebb7898>,\n",
       " <__main__.Friend at 0x27bbebf0908>,\n",
       " <__main__.Friend at 0x27bbebc55c0>,\n",
       " <__main__.Friend at 0x27bbebc5550>,\n",
       " <__main__.Friend at 0x27bbebc5a20>,\n",
       " <__main__.Friend at 0x27bbebc5400>]"
      ]
     },
     "execution_count": 37,
     "metadata": {},
     "output_type": "execute_result"
    }
   ],
   "source": [
    "f=Friend(1,1,1,1,1,1,1)\n",
    "f.all_contacts"
   ]
  },
  {
   "cell_type": "code",
   "execution_count": 38,
   "metadata": {
    "collapsed": true
   },
   "outputs": [],
   "source": [
    "#play with the multi inheritance"
   ]
  },
  {
   "cell_type": "code",
   "execution_count": 39,
   "metadata": {
    "collapsed": true
   },
   "outputs": [],
   "source": [
    "class BaseClass:\n",
    "    num_base_calls=0\n",
    "    def call_me(self):\n",
    "        print(\"calling method on base class\")\n",
    "        self.num_base_calls+=1\n",
    "class LeftClass(BaseClass):\n",
    "    num_left_calls=0\n",
    "    def call_me(self):\n",
    "        BaseClass.call_me(self)\n",
    "        print(\"Calling method on left class\")\n",
    "        self.num_left_calls+=1\n",
    "class RightClass(BaseClass):\n",
    "    num_right_calls=0\n",
    "    def call_me(self):\n",
    "        BaseClass.call_me(self)\n",
    "        print(\"Calling method on right class\")\n",
    "        self.num_right_calls+=1\n",
    "class SubClasss(LeftClass,RightClass):\n",
    "    num_sub_calls=0\n",
    "    def call_me(self):\n",
    "        LeftClass.call_me(self)\n",
    "        RightClass.call_me(self)\n",
    "        print(\"Calling method on subclass\")\n",
    "        self.num_sub_calls+=1"
   ]
  },
  {
   "cell_type": "code",
   "execution_count": 41,
   "metadata": {},
   "outputs": [
    {
     "name": "stdout",
     "output_type": "stream",
     "text": [
      "calling method on base class\n",
      "Calling method on left class\n",
      "calling method on base class\n",
      "Calling method on right class\n",
      "Calling method on subclass\n",
      "2 1 1 1\n"
     ]
    }
   ],
   "source": [
    "s=SubClasss()\n",
    "s.call_me()\n",
    "print(s.num_base_calls,s.num_left_calls,s.num_right_calls,s.num_sub_calls)"
   ]
  },
  {
   "cell_type": "code",
   "execution_count": 44,
   "metadata": {
    "collapsed": true
   },
   "outputs": [],
   "source": [
    "class BaseClass:\n",
    "    num_base_calls=0\n",
    "    def call_me(self):\n",
    "        print(\"calling method on base class\")\n",
    "        self.num_base_calls+=1\n",
    "class LeftClass(BaseClass):\n",
    "    num_left_calls=0\n",
    "    def call_me(self):\n",
    "        super().call_me()\n",
    "        print(\"Calling method on left class\")\n",
    "        self.num_left_calls+=1\n",
    "class RightClass(BaseClass):\n",
    "    num_right_calls=0\n",
    "    def call_me(self):\n",
    "        super().call_me()\n",
    "        print(\"Calling method on right class\")\n",
    "        self.num_right_calls+=1\n",
    "class SubClasss(LeftClass,RightClass):\n",
    "    num_sub_calls=0\n",
    "    def call_me(self):\n",
    "        super().call_me()\n",
    "        print(\"Calling method on subclass\")\n",
    "        self.num_sub_calls+=1"
   ]
  },
  {
   "cell_type": "code",
   "execution_count": 45,
   "metadata": {},
   "outputs": [
    {
     "name": "stdout",
     "output_type": "stream",
     "text": [
      "calling method on base class\n",
      "Calling method on right class\n",
      "Calling method on left class\n",
      "Calling method on subclass\n",
      "1 1 1 1\n"
     ]
    }
   ],
   "source": [
    "s=SubClasss()\n",
    "s.call_me()\n",
    "print(s.num_base_calls,s.num_left_calls,s.num_right_calls,s.num_sub_calls)"
   ]
  },
  {
   "cell_type": "code",
   "execution_count": 46,
   "metadata": {
    "collapsed": true
   },
   "outputs": [],
   "source": [
    "#inherit with different sets of arguments"
   ]
  },
  {
   "cell_type": "code",
   "execution_count": 48,
   "metadata": {},
   "outputs": [],
   "source": [
    "#test of kwargs\n",
    "def test(arg1=1,arg2=2,**kwargs):\n",
    "    print (kwargs)\n",
    "    "
   ]
  },
  {
   "cell_type": "code",
   "execution_count": 50,
   "metadata": {},
   "outputs": [
    {
     "name": "stdout",
     "output_type": "stream",
     "text": [
      "{'b': 15}\n"
     ]
    }
   ],
   "source": [
    "test(b=15)"
   ]
  },
  {
   "cell_type": "code",
   "execution_count": null,
   "metadata": {
    "collapsed": true
   },
   "outputs": [],
   "source": []
  }
 ],
 "metadata": {
  "kernelspec": {
   "display_name": "Python 3",
   "language": "python",
   "name": "python3"
  },
  "language_info": {
   "codemirror_mode": {
    "name": "ipython",
    "version": 3
   },
   "file_extension": ".py",
   "mimetype": "text/x-python",
   "name": "python",
   "nbconvert_exporter": "python",
   "pygments_lexer": "ipython3",
   "version": "3.6.3"
  }
 },
 "nbformat": 4,
 "nbformat_minor": 2
}
